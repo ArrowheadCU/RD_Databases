{
 "cells": [
  {
   "cell_type": "code",
   "execution_count": null,
   "metadata": {
    "collapsed": true
   },
   "outputs": [],
   "source": [
    "'''PyMongo is a Python distribution containing tools for \n",
    "working with MongoDB, and is the recommended way to work \n",
    "with MongoDB from Python.\n",
    "\n",
    "'''"
   ]
  },
  {
   "cell_type": "code",
   "execution_count": 1,
   "metadata": {
    "collapsed": true
   },
   "outputs": [],
   "source": [
    "from pymongo import MongoClient"
   ]
  },
  {
   "cell_type": "code",
   "execution_count": 2,
   "metadata": {
    "collapsed": true
   },
   "outputs": [],
   "source": [
    "'''Create a Connection'''\n",
    "#Use MongoClient to create connection\n",
    "client = MongoClient()"
   ]
  },
  {
   "cell_type": "code",
   "execution_count": 3,
   "metadata": {
    "collapsed": true
   },
   "outputs": [],
   "source": [
    "'''\n",
    "Access Database Objects\n",
    "The first fundamental class of objects you will interact with \n",
    "using pymongo is Database which represents the database \n",
    "construct in MongoDB. Databases hold groups of logically\n",
    "related collections. MongoDB creates new databases \n",
    "implicitly upon their first use.\n",
    "'''\n",
    "#To assign the local variable db to the database named primer, \n",
    "#you can use attribute access, as in the following:\n",
    "db = client.primer    #or db = client['primer']\n"
   ]
  },
  {
   "cell_type": "code",
   "execution_count": 5,
   "metadata": {
    "collapsed": true
   },
   "outputs": [],
   "source": [
    "'''\n",
    "Access Collection Objects\n",
    "The second fundamental class of objects you will interact \n",
    "using pymongo is Collection, which represents the collection \n",
    "construct in MongoDB. Collections hold groups of related \n",
    "documents.\n",
    "'''\n",
    "#You can access collection objects directly using \n",
    "#dictionary-style or attribute access from a Database object, \n",
    "#as in the following examples:\n",
    "\n",
    "coll = db.dataset   #Or coll = db['dataset']"
   ]
  }
 ],
 "metadata": {
  "kernelspec": {
   "display_name": "Python 3",
   "language": "python",
   "name": "python3"
  },
  "language_info": {
   "codemirror_mode": {
    "name": "ipython",
    "version": 3
   },
   "file_extension": ".py",
   "mimetype": "text/x-python",
   "name": "python",
   "nbconvert_exporter": "python",
   "pygments_lexer": "ipython3",
   "version": "3.4.3"
  }
 },
 "nbformat": 4,
 "nbformat_minor": 0
}
