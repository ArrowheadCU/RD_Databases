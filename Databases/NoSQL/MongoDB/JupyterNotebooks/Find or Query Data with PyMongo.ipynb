{
 "cells": [
  {
   "cell_type": "code",
   "execution_count": 1,
   "metadata": {
    "collapsed": true
   },
   "outputs": [
    {
     "data": {
      "text/plain": [
       "'Overview\\nYou can use the find() method to issue a query to retrieve \\ndata from a collection in MongoDB. All queries in MongoDB \\nhave the scope of a single collection.\\n\\nQueries can return all documents in a collection or only the \\ndocuments that match a specified filter or criteria. You can \\nspecify the filter or criteria in a document and pass as a \\nparameter to the find() method.\\n\\nThe find() method returns query results in a cursor, which is \\nan iterable object that yields documents.\\n\\n'"
      ]
     },
     "execution_count": 1,
     "metadata": {},
     "output_type": "execute_result"
    }
   ],
   "source": [
    "'''Overview\n",
    "You can use the find() method to issue a query to retrieve \n",
    "data from a collection in MongoDB. All queries in MongoDB \n",
    "have the scope of a single collection.\n",
    "\n",
    "Queries can return all documents in a collection or only the \n",
    "documents that match a specified filter or criteria. You can \n",
    "specify the filter or criteria in a document and pass as a \n",
    "parameter to the find() method.\n",
    "\n",
    "The find() method returns query results in a cursor, which is \n",
    "an iterable object that yields documents.\n",
    "\n",
    "'''"
   ]
  },
  {
   "cell_type": "code",
   "execution_count": 2,
   "metadata": {
    "collapsed": true
   },
   "outputs": [],
   "source": [
    "'''Prereqs\n",
    "The examples in this section use the restaurants collection \n",
    "in the test database. For instructions on populating the collection \n",
    "with the sample dataset, see Import Example Dataset.\n",
    "'''\n",
    "\n",
    "#From a Python Shell or IDLE, use MongoClient to connect to the \n",
    "#running mongod instance, and switch to the test database.\n",
    "\n",
    "from pymongo import MongoClient\n",
    "\n",
    "client = MongoClient()\n",
    "db = client.test"
   ]
  },
  {
   "cell_type": "code",
   "execution_count": 5,
   "metadata": {
    "collapsed": false
   },
   "outputs": [
    {
     "name": "stdout",
     "output_type": "stream",
     "text": [
      "{'_id': ObjectId('56d3739e27a20b029863eb76'), 'restaurant_id': '41704620', 'grades': [{'score': 11, 'date': datetime.datetime(2014, 10, 1, 0, 0), 'grade': 'A'}, {'score': 17, 'date': datetime.datetime(2014, 1, 16, 0, 0), 'grade': 'B'}], 'name': 'Vella', 'cuisine': 'Italian', 'borough': 'Manhattan', 'address': {'coord': [-73.9557413, 40.7720266], 'zipcode': '10075', 'building': '1480', 'street': '2 Avenue'}}\n",
      "<pymongo.cursor.Cursor object at 0x00DC4D50>\n"
     ]
    }
   ],
   "source": [
    "'''Query for all documents in a Collection'''\n",
    "#To return all documents in a collection, call the find() \n",
    "#method without a criteria document. For example, the following\n",
    "#operation queries for all documents in the restaurants collection.\n",
    "\n",
    "cursor = db.resturant.find()\n",
    "\n",
    "#Iterate the cursor and print the documents\n",
    "for documents in cursor:\n",
    "    print(documents)"
   ]
  },
  {
   "cell_type": "code",
   "execution_count": null,
   "metadata": {
    "collapsed": true
   },
   "outputs": [],
   "source": []
  }
 ],
 "metadata": {
  "kernelspec": {
   "display_name": "Python 3",
   "language": "python",
   "name": "python3"
  },
  "language_info": {
   "codemirror_mode": {
    "name": "ipython",
    "version": 3
   },
   "file_extension": ".py",
   "mimetype": "text/x-python",
   "name": "python",
   "nbconvert_exporter": "python",
   "pygments_lexer": "ipython3",
   "version": "3.4.3"
  }
 },
 "nbformat": 4,
 "nbformat_minor": 0
}
